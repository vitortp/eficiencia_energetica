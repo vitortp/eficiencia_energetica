{
 "cells": [
  {
   "cell_type": "code",
   "execution_count": 26,
   "metadata": {
    "id": "Hn9DXsWAtiQJ"
   },
   "outputs": [],
   "source": [
    "import pandas as pd\n",
    "import numpy as np\n",
    "import warnings\n",
    "warnings.filterwarnings(\"ignore\")"
   ]
  },
  {
   "cell_type": "markdown",
   "metadata": {},
   "source": [
    "# Função para Agrupar CPP + ConsumoGás"
   ]
  },
  {
   "cell_type": "code",
   "execution_count": 27,
   "metadata": {
    "id": "EO3zQEvbtlr7"
   },
   "outputs": [],
   "source": [
    "def correcao_varredura_consumo(df_cpp, df_consumo):\n",
    "    \"\"\"\n",
    "        Funcao responsavel por agrupar o consumo no turno\n",
    "        Arguments:\n",
    "          df_cpp: dataframe -- Dataframe com as colunas: Inicio, Fim, Turno e Produção\n",
    "        Return:\n",
    "          Time_i: list -- \n",
    "          Time_f: list -- \n",
    "          consumo_: list -- \n",
    "          produ__: list -- \n",
    "          tur__: list -- \n",
    "    \"\"\"\n",
    "    Time_i = []\n",
    "    Time_f = []\n",
    "    consumo_ = []\n",
    "    produ__ = []\n",
    "    tur__ = []\n",
    "    cod_produto = []\n",
    "\n",
    "    for data_, turno, prod_, cod_prod in zip(df_cpp.DATA,df_cpp.TURNO, df_cpp['PRODUÇÃO REAL (kg)'], \n",
    "                                             df_cpp['CÓDIGO DO PRODUTO']):\n",
    "        if turno == 'A':\n",
    "            h_inicio = ' 06:00:00'\n",
    "            h_fim = ' 13:59:59'\n",
    "    \n",
    "        elif turno == 'B':\n",
    "            h_inicio = ' 14:00:00'\n",
    "            h_fim = ' 21:59:59'\n",
    "    \n",
    "        else:\n",
    "            h_inicio = ' 22:00:00'\n",
    "            h_fim = ' 05:59:59'\n",
    "\n",
    "        inicio = data_ + h_inicio\n",
    "        fim = data_ + h_fim\n",
    "    \n",
    "        mask = (df_consumo['Time'] >= inicio) & (df_consumo['Time'] <= fim) # Agrupando datas de um intervalo\n",
    "        grupo = df_consumo.loc[mask]\n",
    "        \n",
    "        teste_2 = []\n",
    "        for j in grupo.consumo: # sempre mudar\n",
    "            try:\n",
    "                j = j.split(' m³')[0]\n",
    "                teste_2.append(float(j))\n",
    "            except:\n",
    "                teste_2.append(float(j))\n",
    "        \n",
    "        grupo.consumo = teste_2\n",
    "    \n",
    "        Time_i.append(inicio)\n",
    "        Time_f.append(fim)\n",
    "        consumo_.append(np.sum(grupo.consumo))\n",
    "        produ__.append(prod_)\n",
    "        tur__.append(turno)\n",
    "        cod_produto.append(cod_prod)\n",
    "    \n",
    "\n",
    "    return Time_i, Time_f, consumo_, produ__, tur__, cod_produto"
   ]
  },
  {
   "cell_type": "markdown",
   "metadata": {},
   "source": [
    "# Arquivo de Produção"
   ]
  },
  {
   "cell_type": "code",
   "execution_count": 28,
   "metadata": {
    "colab": {
     "base_uri": "https://localhost:8080/",
     "height": 1000
    },
    "id": "sv_7mgYCuQFU",
    "outputId": "c4e6119d-a4a7-41b7-ca1a-6a04f8babfd5"
   },
   "outputs": [
    {
     "name": "stdout",
     "output_type": "stream",
     "text": [
      "<class 'pandas.core.frame.DataFrame'>\n",
      "RangeIndex: 1645 entries, 0 to 1644\n",
      "Data columns (total 10 columns):\n",
      " #   Column                       Non-Null Count  Dtype  \n",
      "---  ------                       --------------  -----  \n",
      " 0   DATA                         1645 non-null   object \n",
      " 1   TURNO                        1645 non-null   object \n",
      " 2   LINHA / PROCESSO             1645 non-null   object \n",
      " 3   CÓDIGO DO PRODUTO            1645 non-null   int64  \n",
      " 4   ORDEM                        1645 non-null   int64  \n",
      " 5   DESCRIÇÃO PRODUTO            1645 non-null   object \n",
      " 6   PRODUÇÃO ACABADA (Cx ou Fd)  1645 non-null   float64\n",
      " 7   PRODUÇÃO ACABADA (Kg)        1645 non-null   object \n",
      " 8   PRODUÇÃO PROGRAMADA (Kg)     1631 non-null   float64\n",
      " 9   PRODUÇÃO REAL (kg)           1645 non-null   float64\n",
      "dtypes: float64(3), int64(2), object(5)\n",
      "memory usage: 128.6+ KB\n"
     ]
    },
    {
     "data": {
      "text/html": [
       "<div>\n",
       "<style scoped>\n",
       "    .dataframe tbody tr th:only-of-type {\n",
       "        vertical-align: middle;\n",
       "    }\n",
       "\n",
       "    .dataframe tbody tr th {\n",
       "        vertical-align: top;\n",
       "    }\n",
       "\n",
       "    .dataframe thead th {\n",
       "        text-align: right;\n",
       "    }\n",
       "</style>\n",
       "<table border=\"1\" class=\"dataframe\">\n",
       "  <thead>\n",
       "    <tr style=\"text-align: right;\">\n",
       "      <th></th>\n",
       "      <th>DATA</th>\n",
       "      <th>TURNO</th>\n",
       "      <th>LINHA / PROCESSO</th>\n",
       "      <th>CÓDIGO DO PRODUTO</th>\n",
       "      <th>ORDEM</th>\n",
       "      <th>DESCRIÇÃO PRODUTO</th>\n",
       "      <th>PRODUÇÃO ACABADA (Cx ou Fd)</th>\n",
       "      <th>PRODUÇÃO ACABADA (Kg)</th>\n",
       "      <th>PRODUÇÃO PROGRAMADA (Kg)</th>\n",
       "      <th>PRODUÇÃO REAL (kg)</th>\n",
       "    </tr>\n",
       "  </thead>\n",
       "  <tbody>\n",
       "    <tr>\n",
       "      <th>0</th>\n",
       "      <td>01/04/2022</td>\n",
       "      <td>C</td>\n",
       "      <td>LB09</td>\n",
       "      <td>75078</td>\n",
       "      <td>9778529</td>\n",
       "      <td>VIT TRELOSO RECH CHOC 30X130</td>\n",
       "      <td>602.0</td>\n",
       "      <td>2.348</td>\n",
       "      <td>6.739</td>\n",
       "      <td>5.417</td>\n",
       "    </tr>\n",
       "    <tr>\n",
       "      <th>1</th>\n",
       "      <td>01/04/2022</td>\n",
       "      <td>B</td>\n",
       "      <td>LB09</td>\n",
       "      <td>75179</td>\n",
       "      <td>9778514</td>\n",
       "      <td>VIT TRELOSO RECH CHOCOLATE 30X40G</td>\n",
       "      <td>872.0</td>\n",
       "      <td>1.046</td>\n",
       "      <td>2.392</td>\n",
       "      <td>1.051</td>\n",
       "    </tr>\n",
       "  </tbody>\n",
       "</table>\n",
       "</div>"
      ],
      "text/plain": [
       "         DATA TURNO LINHA / PROCESSO  CÓDIGO DO PRODUTO    ORDEM  \\\n",
       "0  01/04/2022     C             LB09              75078  9778529   \n",
       "1  01/04/2022     B             LB09              75179  9778514   \n",
       "\n",
       "                   DESCRIÇÃO PRODUTO  PRODUÇÃO ACABADA (Cx ou Fd)  \\\n",
       "0       VIT TRELOSO RECH CHOC 30X130                        602.0   \n",
       "1  VIT TRELOSO RECH CHOCOLATE 30X40G                        872.0   \n",
       "\n",
       "  PRODUÇÃO ACABADA (Kg)  PRODUÇÃO PROGRAMADA (Kg)  PRODUÇÃO REAL (kg)  \n",
       "0                 2.348                     6.739               5.417  \n",
       "1                 1.046                     2.392               1.051  "
      ]
     },
     "execution_count": 28,
     "metadata": {},
     "output_type": "execute_result"
    }
   ],
   "source": [
    "with open(r'C:\\Users\\vitor\\Documents\\M_Dias\\cpp_filtrada_linha\\cpp_09_abril_a_novembro.csv', encoding='utf-8') as g:\n",
    "    df_cpp = pd.read_csv(g, sep=',')\n",
    "\n",
    "    \n",
    "df_cpp.info()\n",
    "df_cpp.head(2)\n"
   ]
  },
  {
   "cell_type": "markdown",
   "metadata": {},
   "source": [
    "# Arquivo de consumo de gás"
   ]
  },
  {
   "cell_type": "code",
   "execution_count": 29,
   "metadata": {
    "colab": {
     "base_uri": "https://localhost:8080/",
     "height": 424
    },
    "id": "Npq9jqRZt--K",
    "outputId": "0ad4c1f5-8e7a-4349-fd36-3c4960e3c8b7"
   },
   "outputs": [
    {
     "name": "stdout",
     "output_type": "stream",
     "text": [
      "<class 'pandas.core.frame.DataFrame'>\n",
      "RangeIndex: 5688 entries, 0 to 5687\n",
      "Data columns (total 2 columns):\n",
      " #   Column                                     Non-Null Count  Dtype \n",
      "---  ------                                     --------------  ----- \n",
      " 0   Time                                       5688 non-null   object\n",
      " 1   Fábrica 2 > Linha 09 de Biscoitos > Forno  4297 non-null   object\n",
      "dtypes: object(2)\n",
      "memory usage: 89.0+ KB\n",
      "---///------///------///------///------///------///---\n"
     ]
    },
    {
     "data": {
      "text/html": [
       "<div>\n",
       "<style scoped>\n",
       "    .dataframe tbody tr th:only-of-type {\n",
       "        vertical-align: middle;\n",
       "    }\n",
       "\n",
       "    .dataframe tbody tr th {\n",
       "        vertical-align: top;\n",
       "    }\n",
       "\n",
       "    .dataframe thead th {\n",
       "        text-align: right;\n",
       "    }\n",
       "</style>\n",
       "<table border=\"1\" class=\"dataframe\">\n",
       "  <thead>\n",
       "    <tr style=\"text-align: right;\">\n",
       "      <th></th>\n",
       "      <th>Time</th>\n",
       "      <th>consumo</th>\n",
       "    </tr>\n",
       "  </thead>\n",
       "  <tbody>\n",
       "    <tr>\n",
       "      <th>9</th>\n",
       "      <td>01/04/2022 12:00:00</td>\n",
       "      <td>36.8 m³</td>\n",
       "    </tr>\n",
       "    <tr>\n",
       "      <th>10</th>\n",
       "      <td>01/04/2022 13:00:00</td>\n",
       "      <td>459 m³</td>\n",
       "    </tr>\n",
       "  </tbody>\n",
       "</table>\n",
       "</div>"
      ],
      "text/plain": [
       "                   Time  consumo\n",
       "9   01/04/2022 12:00:00  36.8 m³\n",
       "10  01/04/2022 13:00:00   459 m³"
      ]
     },
     "metadata": {},
     "output_type": "display_data"
    },
    {
     "name": "stdout",
     "output_type": "stream",
     "text": [
      "---///------///------///------///------///------///---\n",
      "<class 'pandas.core.frame.DataFrame'>\n",
      "Int64Index: 4297 entries, 9 to 5676\n",
      "Data columns (total 2 columns):\n",
      " #   Column   Non-Null Count  Dtype \n",
      "---  ------   --------------  ----- \n",
      " 0   Time     4297 non-null   object\n",
      " 1   consumo  4297 non-null   object\n",
      "dtypes: object(2)\n",
      "memory usage: 100.7+ KB\n",
      "None\n"
     ]
    }
   ],
   "source": [
    "with open(r'C:\\Users\\vitor\\Documents\\M_Dias\\consumo_gas\\Consumo_gas_Linha_09_stone.csv', encoding='utf-8') as f:\n",
    "    df_con = pd.read_csv(f, sep=',')\n",
    "    df_con.info()\n",
    "    df_con['time'] = df_con['Time'].str.replace('-', '/')\n",
    "    df_con = df_con.dropna()\n",
    "    df_con[['date', 'hora']] = df_con['time'].str.split(expand=True)\n",
    "    df_con[['ano', 'mes', 'dia']] = df_con['date'].str.split('/', expand=True)\n",
    "    df_con['Data1'] = df_con['dia'].map(str) + '/' + df_con['mes'].map(str) + '/' + df_con['ano'].map(str) + ' ' + df_con['hora'].map(str)\n",
    "    df_con = df_con[['Data1', 'Fábrica 2 > Linha 09 de Biscoitos > Forno']]\n",
    "    df_con = df_con.rename(columns={'Data1': 'Time', 'Fábrica 2 > Linha 09 de Biscoitos > Forno': 'consumo'})\n",
    "\n",
    "\n",
    "print('---///---'*6)\n",
    "display(df_con.head(2))\n",
    "print('---///---'*6)\n",
    "print(df_con.info())\n",
    "\n"
   ]
  },
  {
   "cell_type": "markdown",
   "metadata": {},
   "source": [
    "# Criando um Dataframe unido"
   ]
  },
  {
   "cell_type": "code",
   "execution_count": 30,
   "metadata": {
    "colab": {
     "base_uri": "https://localhost:8080/",
     "height": 1000
    },
    "id": "3kFaxpKXyXG3",
    "outputId": "b80b0989-b4ec-4170-b9d2-0b173da75e61"
   },
   "outputs": [],
   "source": [
    "Time_i, Time_f, consumo_, produ__, tur__, cod_produto = correcao_varredura_consumo(df_cpp, df_con)\n",
    "\n",
    "data_ = {'Time_inicio': Time_i,\n",
    "          'Time_fim': Time_f,\n",
    "            'Producao_Kg': produ__,\n",
    "            'consumo_Nm³': consumo_,\n",
    "            'Turno': tur__,\n",
    "             'cod.Produto': cod_produto}\n",
    "new_df = pd.DataFrame(data_)"
   ]
  },
  {
   "cell_type": "code",
   "execution_count": 31,
   "metadata": {},
   "outputs": [
    {
     "data": {
      "text/html": [
       "<div>\n",
       "<style scoped>\n",
       "    .dataframe tbody tr th:only-of-type {\n",
       "        vertical-align: middle;\n",
       "    }\n",
       "\n",
       "    .dataframe tbody tr th {\n",
       "        vertical-align: top;\n",
       "    }\n",
       "\n",
       "    .dataframe thead th {\n",
       "        text-align: right;\n",
       "    }\n",
       "</style>\n",
       "<table border=\"1\" class=\"dataframe\">\n",
       "  <thead>\n",
       "    <tr style=\"text-align: right;\">\n",
       "      <th></th>\n",
       "      <th>Time_inicio</th>\n",
       "      <th>Time_fim</th>\n",
       "      <th>Producao_Kg</th>\n",
       "      <th>consumo_Nm³</th>\n",
       "      <th>Turno</th>\n",
       "      <th>cod.Produto</th>\n",
       "    </tr>\n",
       "  </thead>\n",
       "  <tbody>\n",
       "    <tr>\n",
       "      <th>0</th>\n",
       "      <td>01/04/2022 22:00:00</td>\n",
       "      <td>01/04/2022 05:59:59</td>\n",
       "      <td>5.417</td>\n",
       "      <td>0.0</td>\n",
       "      <td>C</td>\n",
       "      <td>75078</td>\n",
       "    </tr>\n",
       "    <tr>\n",
       "      <th>1</th>\n",
       "      <td>01/04/2022 14:00:00</td>\n",
       "      <td>01/04/2022 21:59:59</td>\n",
       "      <td>1.051</td>\n",
       "      <td>3665.0</td>\n",
       "      <td>B</td>\n",
       "      <td>75179</td>\n",
       "    </tr>\n",
       "    <tr>\n",
       "      <th>2</th>\n",
       "      <td>01/04/2022 22:00:00</td>\n",
       "      <td>01/04/2022 05:59:59</td>\n",
       "      <td>1.044</td>\n",
       "      <td>0.0</td>\n",
       "      <td>C</td>\n",
       "      <td>75179</td>\n",
       "    </tr>\n",
       "    <tr>\n",
       "      <th>3</th>\n",
       "      <td>01/04/2022 14:00:00</td>\n",
       "      <td>01/04/2022 21:59:59</td>\n",
       "      <td>5.015</td>\n",
       "      <td>3665.0</td>\n",
       "      <td>B</td>\n",
       "      <td>75078</td>\n",
       "    </tr>\n",
       "    <tr>\n",
       "      <th>4</th>\n",
       "      <td>01/04/2022 14:00:00</td>\n",
       "      <td>01/04/2022 21:59:59</td>\n",
       "      <td>4.299</td>\n",
       "      <td>3665.0</td>\n",
       "      <td>B</td>\n",
       "      <td>75077</td>\n",
       "    </tr>\n",
       "    <tr>\n",
       "      <th>...</th>\n",
       "      <td>...</td>\n",
       "      <td>...</td>\n",
       "      <td>...</td>\n",
       "      <td>...</td>\n",
       "      <td>...</td>\n",
       "      <td>...</td>\n",
       "    </tr>\n",
       "    <tr>\n",
       "      <th>1640</th>\n",
       "      <td>12/11/2022 22:00:00</td>\n",
       "      <td>12/11/2022 05:59:59</td>\n",
       "      <td>8.383</td>\n",
       "      <td>0.0</td>\n",
       "      <td>C</td>\n",
       "      <td>75376</td>\n",
       "    </tr>\n",
       "    <tr>\n",
       "      <th>1641</th>\n",
       "      <td>12/11/2022 22:00:00</td>\n",
       "      <td>12/11/2022 05:59:59</td>\n",
       "      <td>3.256</td>\n",
       "      <td>0.0</td>\n",
       "      <td>C</td>\n",
       "      <td>75378</td>\n",
       "    </tr>\n",
       "    <tr>\n",
       "      <th>1642</th>\n",
       "      <td>12/11/2022 06:00:00</td>\n",
       "      <td>12/11/2022 13:59:59</td>\n",
       "      <td>14.032</td>\n",
       "      <td>587.0</td>\n",
       "      <td>A</td>\n",
       "      <td>75376</td>\n",
       "    </tr>\n",
       "    <tr>\n",
       "      <th>1643</th>\n",
       "      <td>13/11/2022 22:00:00</td>\n",
       "      <td>13/11/2022 05:59:59</td>\n",
       "      <td>1.624</td>\n",
       "      <td>0.0</td>\n",
       "      <td>C</td>\n",
       "      <td>75399</td>\n",
       "    </tr>\n",
       "    <tr>\n",
       "      <th>1644</th>\n",
       "      <td>13/11/2022 22:00:00</td>\n",
       "      <td>13/11/2022 05:59:59</td>\n",
       "      <td>9.590</td>\n",
       "      <td>0.0</td>\n",
       "      <td>C</td>\n",
       "      <td>75370</td>\n",
       "    </tr>\n",
       "  </tbody>\n",
       "</table>\n",
       "<p>1645 rows × 6 columns</p>\n",
       "</div>"
      ],
      "text/plain": [
       "              Time_inicio             Time_fim  Producao_Kg  consumo_Nm³  \\\n",
       "0     01/04/2022 22:00:00  01/04/2022 05:59:59        5.417          0.0   \n",
       "1     01/04/2022 14:00:00  01/04/2022 21:59:59        1.051       3665.0   \n",
       "2     01/04/2022 22:00:00  01/04/2022 05:59:59        1.044          0.0   \n",
       "3     01/04/2022 14:00:00  01/04/2022 21:59:59        5.015       3665.0   \n",
       "4     01/04/2022 14:00:00  01/04/2022 21:59:59        4.299       3665.0   \n",
       "...                   ...                  ...          ...          ...   \n",
       "1640  12/11/2022 22:00:00  12/11/2022 05:59:59        8.383          0.0   \n",
       "1641  12/11/2022 22:00:00  12/11/2022 05:59:59        3.256          0.0   \n",
       "1642  12/11/2022 06:00:00  12/11/2022 13:59:59       14.032        587.0   \n",
       "1643  13/11/2022 22:00:00  13/11/2022 05:59:59        1.624          0.0   \n",
       "1644  13/11/2022 22:00:00  13/11/2022 05:59:59        9.590          0.0   \n",
       "\n",
       "     Turno  cod.Produto  \n",
       "0        C        75078  \n",
       "1        B        75179  \n",
       "2        C        75179  \n",
       "3        B        75078  \n",
       "4        B        75077  \n",
       "...    ...          ...  \n",
       "1640     C        75376  \n",
       "1641     C        75378  \n",
       "1642     A        75376  \n",
       "1643     C        75399  \n",
       "1644     C        75370  \n",
       "\n",
       "[1645 rows x 6 columns]"
      ]
     },
     "execution_count": 31,
     "metadata": {},
     "output_type": "execute_result"
    }
   ],
   "source": [
    "new_df"
   ]
  },
  {
   "cell_type": "markdown",
   "metadata": {},
   "source": [
    "# Salvando o arquivo em csv"
   ]
  },
  {
   "cell_type": "code",
   "execution_count": 56,
   "metadata": {},
   "outputs": [],
   "source": [
    "# new_df.to_csv(r'C:\\Users\\vitor\\Documents\\M_dias\\Análises_jaboatao\\Tabelas_p_enviar\\consumo_l09JB.csv', index=False, encoding='utf-8')"
   ]
  }
 ],
 "metadata": {
  "colab": {
   "provenance": []
  },
  "kernelspec": {
   "display_name": "Python 3 (ipykernel)",
   "language": "python",
   "name": "python3"
  },
  "language_info": {
   "codemirror_mode": {
    "name": "ipython",
    "version": 3
   },
   "file_extension": ".py",
   "mimetype": "text/x-python",
   "name": "python",
   "nbconvert_exporter": "python",
   "pygments_lexer": "ipython3",
   "version": "3.9.7"
  }
 },
 "nbformat": 4,
 "nbformat_minor": 1
}
