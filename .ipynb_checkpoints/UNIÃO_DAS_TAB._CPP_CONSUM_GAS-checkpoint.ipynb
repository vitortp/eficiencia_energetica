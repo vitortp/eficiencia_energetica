{
 "cells": [
  {
   "cell_type": "code",
   "execution_count": 1,
   "metadata": {
    "id": "Hn9DXsWAtiQJ"
   },
   "outputs": [],
   "source": [
    "import pandas as pd\n",
    "import numpy as np\n",
    "import warnings\n",
    "warnings.filterwarnings(\"ignore\")"
   ]
  },
  {
   "cell_type": "markdown",
   "metadata": {},
   "source": [
    "# Função para Agrupar CPP + ConsumoGás"
   ]
  },
  {
   "cell_type": "code",
   "execution_count": 2,
   "metadata": {
    "id": "EO3zQEvbtlr7"
   },
   "outputs": [],
   "source": [
    "def correcao_varredura_consumo(df_cpp, df_consumo):\n",
    "    \"\"\"\n",
    "        Funcao responsavel por agrupar o consumo no turno\n",
    "        Arguments:\n",
    "          df_cpp: dataframe -- Dataframe com as colunas: Inicio, Fim, Turno e Produção\n",
    "        Return:\n",
    "          Time_i: list -- \n",
    "          Time_f: list -- \n",
    "          consumo_: list -- \n",
    "          produ__: list -- \n",
    "          tur__: list -- \n",
    "    \"\"\"\n",
    "    Time_i = []\n",
    "    Time_f = []\n",
    "    consumo_ = []\n",
    "    produ__ = []\n",
    "    tur__ = []\n",
    "    cod_produto = []\n",
    "\n",
    "    for data_, turno, prod_, cod_prod in zip(df_cpp.DATA,df_cpp.TURNO, df_cpp['PRODUÇÃO REAL (kg)'], \n",
    "                                             df_cpp['CÓDIGO DO PRODUTO']):\n",
    "        if turno == 'A':\n",
    "            h_inicio = ' 06:00:00'\n",
    "            h_fim = ' 13:59:59'\n",
    "    \n",
    "        elif turno == 'B':\n",
    "            h_inicio = ' 14:00:00'\n",
    "            h_fim = ' 21:59:59'\n",
    "    \n",
    "        else:\n",
    "            h_inicio = ' 22:00:00'\n",
    "            h_fim = ' 05:59:59'\n",
    "\n",
    "        inicio = data_ + h_inicio\n",
    "        fim = data_ + h_fim\n",
    "    \n",
    "        mask = (df_consumo['Time'] >= inicio) & (df_consumo['Time'] <= fim) # Agrupando datas de um intervalo\n",
    "        grupo = df_consumo.loc[mask]\n",
    "        \n",
    "        teste_2 = []\n",
    "        for j in grupo.consumo: # sempre mudar\n",
    "            try:\n",
    "                j = j.split(' m³')[0]\n",
    "                teste_2.append(float(j))\n",
    "            except:\n",
    "                teste_2.append(float(j))\n",
    "        \n",
    "        grupo.consumo = teste_2\n",
    "    \n",
    "        Time_i.append(inicio)\n",
    "        Time_f.append(fim)\n",
    "        consumo_.append(np.sum(grupo.consumo))\n",
    "        produ__.append(prod_)\n",
    "        tur__.append(turno)\n",
    "        cod_produto.append(cod_prod)\n",
    "    \n",
    "\n",
    "    return Time_i, Time_f, consumo_, produ__, tur__, cod_produto"
   ]
  },
  {
   "cell_type": "markdown",
   "metadata": {},
   "source": [
    "# Arquivo de Produção"
   ]
  },
  {
   "cell_type": "code",
   "execution_count": 3,
   "metadata": {
    "colab": {
     "base_uri": "https://localhost:8080/",
     "height": 1000
    },
    "id": "sv_7mgYCuQFU",
    "outputId": "c4e6119d-a4a7-41b7-ca1a-6a04f8babfd5"
   },
   "outputs": [],
   "source": [
    "with open(r'C:\\Users\\vitor\\Documents\\M_Dias\\cpp_filtrada_linha\\cpp_09_abril_a_novembro.csv', encoding='utf-8') as g:\n",
    "    df_cpp = pd.read_csv(g, sep=',')\n",
    "\n",
    "    \n",
    "# df_cpp.info()\n",
    "# df_cpp.head(2)\n"
   ]
  },
  {
   "cell_type": "markdown",
   "metadata": {},
   "source": [
    "# Arquivo de consumo de gás"
   ]
  },
  {
   "cell_type": "code",
   "execution_count": 4,
   "metadata": {
    "colab": {
     "base_uri": "https://localhost:8080/",
     "height": 424
    },
    "id": "Npq9jqRZt--K",
    "outputId": "0ad4c1f5-8e7a-4349-fd36-3c4960e3c8b7"
   },
   "outputs": [],
   "source": [
    "with open(r'C:\\Users\\vitor\\Documents\\M_Dias\\consumo_gas\\Consumo_gas_Linha_09_stone.csv', encoding='utf-8') as f:\n",
    "    df_con = pd.read_csv(f, sep=',')\n",
    "#     df_con.info()\n",
    "    df_con['time'] = df_con['Time'].str.replace('-', '/')\n",
    "    df_con = df_con.dropna()\n",
    "    df_con[['date', 'hora']] = df_con['time'].str.split(expand=True)\n",
    "    df_con[['ano', 'mes', 'dia']] = df_con['date'].str.split('/', expand=True)\n",
    "    df_con['Data1'] = df_con['dia'].map(str) + '/' + df_con['mes'].map(str) + '/' + df_con['ano'].map(str) + ' ' + df_con['hora'].map(str)\n",
    "    df_con = df_con[['Data1', 'Fábrica 2 > Linha 09 de Biscoitos > Forno']]\n",
    "    df_con = df_con.rename(columns={'Data1': 'Time', 'Fábrica 2 > Linha 09 de Biscoitos > Forno': 'consumo'})\n",
    "\n",
    "\n",
    "# print('---///---'*6)\n",
    "# display(df_con.head(2))\n",
    "# print('---///---'*6)\n",
    "# print(df_con.info())\n",
    "\n"
   ]
  },
  {
   "cell_type": "markdown",
   "metadata": {},
   "source": [
    "# Criando um Dataframe unido"
   ]
  },
  {
   "cell_type": "code",
   "execution_count": 5,
   "metadata": {
    "colab": {
     "base_uri": "https://localhost:8080/",
     "height": 1000
    },
    "id": "3kFaxpKXyXG3",
    "outputId": "b80b0989-b4ec-4170-b9d2-0b173da75e61"
   },
   "outputs": [],
   "source": [
    "Time_i, Time_f, consumo_, produ__, tur__, cod_produto = correcao_varredura_consumo(df_cpp, df_con)\n",
    "\n",
    "data_ = {'Time_inicio': Time_i,\n",
    "          'Time_fim': Time_f,\n",
    "            'Producao_Kg': produ__,\n",
    "            'consumo_Nm³': consumo_,\n",
    "            'Turno': tur__,\n",
    "             'cod.Produto': cod_produto}\n",
    "new_df = pd.DataFrame(data_)"
   ]
  },
  {
   "cell_type": "code",
   "execution_count": 6,
   "metadata": {},
   "outputs": [],
   "source": [
    "# new_df"
   ]
  },
  {
   "cell_type": "markdown",
   "metadata": {},
   "source": [
    "# Salvando o arquivo em csv"
   ]
  },
  {
   "cell_type": "code",
   "execution_count": 7,
   "metadata": {},
   "outputs": [],
   "source": [
    "# new_df.to_csv(r'C:\\Users\\vitor\\Documents\\M_dias\\Análises_jaboatao\\Tabelas_p_enviar\\consumo_l09JB.csv', index=False, encoding='utf-8')"
   ]
  }
 ],
 "metadata": {
  "colab": {
   "provenance": []
  },
  "kernelspec": {
   "display_name": "Python 3 (ipykernel)",
   "language": "python",
   "name": "python3"
  },
  "language_info": {
   "codemirror_mode": {
    "name": "ipython",
    "version": 3
   },
   "file_extension": ".py",
   "mimetype": "text/x-python",
   "name": "python",
   "nbconvert_exporter": "python",
   "pygments_lexer": "ipython3",
   "version": "3.9.7"
  }
 },
 "nbformat": 4,
 "nbformat_minor": 1
}
